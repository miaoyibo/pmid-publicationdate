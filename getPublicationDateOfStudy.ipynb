{
 "cells": [
  {
   "cell_type": "code",
   "execution_count": 20,
   "metadata": {},
   "outputs": [],
   "source": [
    "import requests\n",
    "import json\n",
    "import pandas as pd"
   ]
  },
  {
   "cell_type": "code",
   "execution_count": 47,
   "metadata": {},
   "outputs": [],
   "source": [
    "def getPublicationDate(a):\n",
    "    url='https://eutils.ncbi.nlm.nih.gov/entrez/eutils/esummary.fcgi?db=pubmed&id='+pmid+'&retmode=json'\n",
    "    response = requests.get(url)\n",
    "    jsonstr = json.loads(response.text)\n",
    "    result=jsonstr.get('result')\n",
    "    data=result.get(pmid)\n",
    "    date=''\n",
    "    if data:\n",
    "        date=data.get('pubdate').split(' ')[0]\n",
    "    else:\n",
    "        print(\"no date;pmid=\"+a)   \n",
    "    return date"
   ]
  },
  {
   "cell_type": "code",
   "execution_count": 49,
   "metadata": {},
   "outputs": [
    {
     "name": "stdout",
     "output_type": "stream",
     "text": [
      "no date;pmid=nan\n"
     ]
    }
   ],
   "source": [
    "f = open('D:\\\\pmid_study.txt')\n",
    "fw = open('D:\\\\pubdate1.txt', 'w') \n",
    "df=pd.read_csv(f,sep='\\t',converters={'PMID':str})\n",
    "try:   \n",
    "    for row in df.itertuples():\n",
    "         pmids=getattr(row, 'PMID')\n",
    "         studyId=getattr(row, 'CANCER_STUDY_ID')\n",
    "         plist=[]\n",
    "         for pmid in  pmids.split(','):\n",
    "            if len(pmid)>0:\n",
    "                pubdate=getPublicationDate(pmid)\n",
    "                if len(pubdate)>0 and pubdate not in plist:\n",
    "                    plist.append(pubdate)\n",
    "         if plist:\n",
    "            plist2=\",\".join(plist)\n",
    "            sql=\"update cancer_study set PUBLICATION_DATE=\\'\"+plist2+\"\\' where CANCER_STUDY_ID=\"+str(studyId)+\";\"\n",
    "            fw.write(sql)\n",
    "            fw.write(\"\\r\\n\")\n",
    "finally:\n",
    "    fw.close()\n",
    "    f.close()\n",
    "\n",
    "\n",
    "    "
   ]
  },
  {
   "cell_type": "code",
   "execution_count": null,
   "metadata": {},
   "outputs": [],
   "source": []
  }
 ],
 "metadata": {
  "kernelspec": {
   "display_name": "Python 3",
   "language": "python",
   "name": "python3"
  },
  "language_info": {
   "codemirror_mode": {
    "name": "ipython",
    "version": 3
   },
   "file_extension": ".py",
   "mimetype": "text/x-python",
   "name": "python",
   "nbconvert_exporter": "python",
   "pygments_lexer": "ipython3",
   "version": "3.7.0"
  }
 },
 "nbformat": 4,
 "nbformat_minor": 2
}
